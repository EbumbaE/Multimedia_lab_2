{
  "cells": [
    {
      "cell_type": "markdown",
      "metadata": {
        "id": "iha8AcBWDj-5"
      },
      "source": [
        "# Лабораторная работа № 6 – Проведение исследований с моделями классификации\n",
        "\n",
        "---\n",
        "\n",
        "## 1. Выбор начальных условий\n",
        "\n",
        "Используем EuroSAT RGB – датасет спутниковых изображений, отснятых Sentinel-2, содержащий 10 классов наземного покрытия (лес, вода, жилые постройки и т.д.), всего 27000 изображений размером 64x64.  \n",
        "\n",
        "Практическая задача: автоматический мониторинг землепользования из космоса для экологии, планирования и сельского хозяйства.\n",
        "\n",
        "Датасет: <https://github.com/phelber/EuroSAT>\n",
        "\n",
        "\n",
        "### Метрики\n",
        "\n",
        "* Accuracy — проста в интерпретации и подходит при равном количестве примеров классов.  \n",
        "* Macro F1 score — усреднённая F1-мера по классам; чувствительна к ошибкам в миноритарных классах.  \n",
        "* Cohen's — учитывает вероятность случайного угадывания и полезна при несбалансированных классах.\n",
        "\n"
      ]
    },
    {
      "cell_type": "code",
      "execution_count": 1,
      "metadata": {
        "id": "ZeDuqqQeAtZp"
      },
      "outputs": [],
      "source": [
        "!pip -q install torch torchvision torchaudio timm tqdm scikit-learn"
      ]
    },
    {
      "cell_type": "code",
      "execution_count": 2,
      "metadata": {
        "colab": {
          "base_uri": "https://localhost:8080/"
        },
        "id": "Mu1MXEV4A0Ou",
        "outputId": "c67954a5-488a-4ba8-9483-f37ec8bb0d41"
      },
      "outputs": [
        {
          "name": "stdout",
          "output_type": "stream",
          "text": [
            "Using device: cuda\n"
          ]
        }
      ],
      "source": [
        "import torch, torchvision\n",
        "from torchvision import transforms\n",
        "from torchvision.datasets import EuroSAT\n",
        "from torch.utils.data import DataLoader, random_split\n",
        "import timm, torch.nn as nn, torch.optim as optim\n",
        "from sklearn.metrics import accuracy_score, f1_score, cohen_kappa_score\n",
        "from tqdm.auto import tqdm\n",
        "device = torch.device('cuda' if torch.cuda.is_available() else 'mps' if torch.backends.mps.is_available() else 'cpu')\n",
        "print('Using device:', device)"
      ]
    },
    {
      "cell_type": "markdown",
      "metadata": {
        "id": "jEfcnq5BD6f7"
      },
      "source": [
        "### Загрузка и разделение датасета"
      ]
    },
    {
      "cell_type": "code",
      "execution_count": 3,
      "metadata": {
        "colab": {
          "base_uri": "https://localhost:8080/"
        },
        "id": "0Uq35MKtBEne",
        "outputId": "bf1a269e-5079-4fb9-d6a9-0305a9b9af1a"
      },
      "outputs": [
        {
          "name": "stderr",
          "output_type": "stream",
          "text": [
            "100%|██████████| 94.3M/94.3M [00:00<00:00, 210MB/s]\n"
          ]
        },
        {
          "data": {
            "text/plain": [
              "10"
            ]
          },
          "execution_count": 3,
          "metadata": {},
          "output_type": "execute_result"
        }
      ],
      "source": [
        "BATCH_SIZE = 64\n",
        "IMG_SIZE = 224\n",
        "\n",
        "base_transform = transforms.Compose([\n",
        "    transforms.Resize((IMG_SIZE, IMG_SIZE)),\n",
        "    transforms.ToTensor(),\n",
        "    transforms.Normalize([0.485, 0.456, 0.406],\n",
        "                         [0.229, 0.224, 0.225]),\n",
        "])\n",
        "\n",
        "dataset = EuroSAT(root='data', download=True, transform=base_transform)\n",
        "\n",
        "train_len = int(0.7 * len(dataset))\n",
        "val_len   = int(0.15 * len(dataset))\n",
        "test_len  = len(dataset) - train_len - val_len\n",
        "train_ds, val_ds, test_ds = random_split(dataset, [train_len, val_len, test_len],\n",
        "                                         generator=torch.Generator().manual_seed(42))\n",
        "\n",
        "PIN_MEMORY = device.type == 'cuda'\n",
        "\n",
        "train_loader = DataLoader(train_ds, batch_size=BATCH_SIZE, shuffle=True, num_workers=2, pin_memory=PIN_MEMORY)\n",
        "val_loader   = DataLoader(val_ds,   batch_size=BATCH_SIZE, shuffle=False, num_workers=2, pin_memory=PIN_MEMORY)\n",
        "test_loader  = DataLoader(test_ds,  batch_size=BATCH_SIZE, shuffle=False, num_workers=2, pin_memory=PIN_MEMORY)\n",
        "\n",
        "NUM_CLASSES = len(dataset.classes)\n",
        "NUM_CLASSES"
      ]
    },
    {
      "cell_type": "markdown",
      "metadata": {
        "id": "Tw-Y4aH3EHFj"
      },
      "source": [
        "### Вспомогательные функции обучения и оценки"
      ]
    },
    {
      "cell_type": "code",
      "execution_count": 4,
      "metadata": {
        "id": "tKLzcP8oBHQf"
      },
      "outputs": [],
      "source": [
        "def train_one_epoch(model, loader, criterion, optimizer):\n",
        "    model.train()\n",
        "    running_loss = 0\n",
        "    for x, y in loader:\n",
        "        x, y = x.to(device), y.to(device)\n",
        "        optimizer.zero_grad()\n",
        "        preds = model(x)\n",
        "        loss = criterion(preds, y)\n",
        "        loss.backward()\n",
        "        optimizer.step()\n",
        "        running_loss += loss.item() * x.size(0)\n",
        "    return running_loss / len(loader.dataset)\n",
        "\n",
        "@torch.no_grad()\n",
        "def evaluate(model, loader):\n",
        "    model.eval()\n",
        "    y_true, y_pred = [], []\n",
        "    for x, y in loader:\n",
        "        x = x.to(device)\n",
        "        logits = model(x)\n",
        "        y_hat = logits.argmax(1).cpu()\n",
        "        y_true.extend(y.numpy())\n",
        "        y_pred.extend(y_hat.numpy())\n",
        "    acc = accuracy_score(y_true, y_pred)\n",
        "    f1  = f1_score(y_true, y_pred, average='macro')\n",
        "    k   = cohen_kappa_score(y_true, y_pred)\n",
        "    return acc, f1, k\n",
        "\n",
        "def fit(model, epochs=3, lr=1e-3):\n",
        "    model.to(device)\n",
        "    criterion = nn.CrossEntropyLoss()\n",
        "    optimizer = optim.AdamW(model.parameters(), lr=lr)\n",
        "    best_acc = 0\n",
        "    for epoch in range(epochs):\n",
        "        loss = train_one_epoch(model, train_loader, criterion, optimizer)\n",
        "        acc, f1, k = evaluate(model, val_loader)\n",
        "        if acc > best_acc:\n",
        "            best_acc = acc\n",
        "            torch.save(model.state_dict(), 'best.pt')\n",
        "        print(f'Epoch {epoch+1}/{epochs}: loss={loss:.4f}, val_acc={acc:.4f}, val_f1={f1:.4f}')\n",
        "    model.load_state_dict(torch.load('best.pt'))\n",
        "    return model"
      ]
    },
    {
      "cell_type": "markdown",
      "metadata": {
        "id": "Dq9LT_nkEK4O"
      },
      "source": [
        "## 2. Бейзлайн: модели из torchvision"
      ]
    },
    {
      "cell_type": "code",
      "execution_count": 5,
      "metadata": {
        "colab": {
          "base_uri": "https://localhost:8080/"
        },
        "id": "411H3F9lBJBg",
        "outputId": "d9c116c1-e8c9-48b8-f90d-e319c676eecb"
      },
      "outputs": [
        {
          "name": "stderr",
          "output_type": "stream",
          "text": [
            "Downloading: \"https://download.pytorch.org/models/resnet18-f37072fd.pth\" to /root/.cache/torch/hub/checkpoints/resnet18-f37072fd.pth\n",
            "100%|██████████| 44.7M/44.7M [00:00<00:00, 143MB/s]\n"
          ]
        },
        {
          "name": "stdout",
          "output_type": "stream",
          "text": [
            "Epoch 1/3: loss=0.2128, val_acc=0.9027, val_f1=0.9024\n",
            "Epoch 2/3: loss=0.0986, val_acc=0.9378, val_f1=0.9352\n",
            "Epoch 3/3: loss=0.0807, val_acc=0.9642, val_f1=0.9633\n",
            "ResNet18 test: (0.9674074074074074, 0.9661639249991417, np.float64(0.9637262787436672))\n"
          ]
        }
      ],
      "source": [
        "baseline_results = {}\n",
        "\n",
        "resnet = torchvision.models.resnet18(weights='IMAGENET1K_V1')\n",
        "resnet.fc = nn.Linear(resnet.fc.in_features, NUM_CLASSES)\n",
        "resnet = fit(resnet, epochs=3, lr=3e-4)\n",
        "baseline_results['ResNet18'] = evaluate(resnet, test_loader)\n",
        "print('ResNet18 test:', baseline_results['ResNet18'])"
      ]
    },
    {
      "cell_type": "code",
      "execution_count": 8,
      "metadata": {
        "colab": {
          "base_uri": "https://localhost:8080/"
        },
        "id": "NKSnKbB2C_OY",
        "outputId": "633de597-75d9-4954-99ce-1d1514531543"
      },
      "outputs": [
        {
          "name": "stdout",
          "output_type": "stream",
          "text": [
            "Epoch 1/3: loss=0.1695, val_acc=0.9810, val_f1=0.9806\n",
            "Epoch 2/3: loss=0.0327, val_acc=0.9800, val_f1=0.9791\n",
            "Epoch 3/3: loss=0.0216, val_acc=0.9837, val_f1=0.9826\n",
            "ViT-B16 test: (0.9864197530864197, 0.9856256925808424, np.float64(0.9848843515478424))\n"
          ]
        }
      ],
      "source": [
        "vit = timm.create_model('vit_small_patch16_224', pretrained=True, num_classes=NUM_CLASSES)\n",
        "transform = transforms.Resize((128, 128))\n",
        "vit = fit(vit, epochs=3, lr=5e-5)\n",
        "baseline_results['ViT-B16'] = evaluate(vit, test_loader)\n",
        "print('ViT-B16 test:', baseline_results['ViT-B16'])"
      ]
    },
    {
      "cell_type": "markdown",
      "metadata": {
        "id": "AQEwmaF2ERWw"
      },
      "source": [
        "### Итоги бейзлайна\n",
        "`baseline_results` содержит кортежи: accuracy, macro F1, κ - для каждой модели."
      ]
    },
    {
      "cell_type": "markdown",
      "metadata": {
        "id": "XMJkbnYlETlF"
      },
      "source": [
        "## 3. Улучшение бейзлайна\n",
        "\n",
        "Гипотезы:  \n",
        "1. Сильные аугментации (ColorJitter, RandomRotation, RandomHorizontalFlip) улучшат обобщение.  \n",
        "2. Более современные модели (EfficientNetV2, DeiT-Small) дадут лучший bias-variance баланс.  \n",
        "3. OneCycleLR ускорит и стабилизирует обучение."
      ]
    },
    {
      "cell_type": "code",
      "execution_count": 11,
      "metadata": {
        "id": "ScnynYZ3EQvt"
      },
      "outputs": [],
      "source": [
        "aug_transform = transforms.Compose([\n",
        "    transforms.RandomResizedCrop(IMG_SIZE, scale=(0.8, 1.2)),\n",
        "    transforms.RandomHorizontalFlip(),\n",
        "    transforms.RandomRotation(20),\n",
        "    transforms.ColorJitter(0.2, 0.2, 0.2, 0.1),\n",
        "    transforms.ToTensor(),\n",
        "    transforms.Normalize([0.485, 0.456, 0.406],\n",
        "                         [0.229, 0.224, 0.225]),\n",
        "])\n",
        "\n",
        "aug_dataset = EuroSAT(root='data', download=False, transform=aug_transform)\n",
        "train_ds_aug, _, _ = random_split(aug_dataset, [train_len, val_len, test_len],\n",
        "                                  generator=torch.Generator().manual_seed(42))\n",
        "train_loader_aug = DataLoader(train_ds_aug, batch_size=BATCH_SIZE, shuffle=True, num_workers=2, pin_memory=True)\n",
        "\n",
        "def fit_onecycle(model, epochs=5, max_lr=1e-3):\n",
        "    model.to(device)\n",
        "    criterion = nn.CrossEntropyLoss()\n",
        "    optimizer = optim.AdamW(model.parameters(), lr=max_lr)\n",
        "    scheduler = optim.lr_scheduler.OneCycleLR(optimizer, max_lr=max_lr,\n",
        "                                              steps_per_epoch=len(train_loader_aug),\n",
        "                                              epochs=epochs)\n",
        "    best_acc = 0\n",
        "    for epoch in range(epochs):\n",
        "        model.train()\n",
        "        for x, y in tqdm(train_loader_aug, leave=False):\n",
        "            x, y = x.to(device), y.to(device)\n",
        "            optimizer.zero_grad()\n",
        "            loss = criterion(model(x), y)\n",
        "            loss.backward()\n",
        "            optimizer.step()\n",
        "            scheduler.step()\n",
        "        acc, f1, k = evaluate(model, val_loader)\n",
        "        if acc > best_acc:\n",
        "            best_acc = acc\n",
        "            torch.save(model.state_dict(), 'best.pt')\n",
        "        print(f'Epoch {epoch+1}: val_acc={acc:.4f}')\n",
        "    model.load_state_dict(torch.load('best.pt'))\n",
        "    return model"
      ]
    },
    {
      "cell_type": "code",
      "execution_count": 12,
      "metadata": {
        "colab": {
          "base_uri": "https://localhost:8080/",
          "height": 156,
          "referenced_widgets": [
            "ff08d9e5c99d4c1a94a6d71dca9e4dae",
            "42ce5a6b2300408887c0758b70a23e11",
            "0e73b598b18b450a99dd7356c8e8660e",
            "f72eb6d9dde648c78da72f6aaa5bfa1a",
            "31d47b19c4274f9cba50075a0ddbb85b",
            "f5f224c8d7514c93bb20b4af5382f5ab",
            "2d99fcd4e55947c598af083a60e8439e",
            "d348319086c44dcc9b1f9d6a87f80d66",
            "dfcc37fbcaf34cbdad200f51331de143",
            "fae33617d64546938b27bca1676a2fe2",
            "1886c68518e14c6692f798a3a6be68e8",
            "3834a1d4703d4888b9c039b66dadfe04",
            "14816c27372b4a7c8c193716e13a57f3",
            "92dc0f7f10094baca2f6e0918b2e921d",
            "8ec2b172ecfd49d5886b75a60829cb55",
            "a3ce8d4159a44496aad5afcf0e4abef7",
            "783b11ef69bf4cbc8e434cea747d7ffa",
            "8ec9caac179b410cabfab5f251160cda",
            "310cfe4b95944a75b94e8da9186f4091",
            "74db676dce7d4a1e9a2865afacb2cc4c",
            "2e94764efd794854baa56af406ec8c44",
            "5808bd276e4f429aa03f629388d159c1",
            "a79e891e875a41f0aa2263b3bd102010",
            "0dc57aea42144e9fbcd3881754a42813",
            "e12b6a89fc1b4cdbbf155c42edaf2e0c",
            "b63c27e39e764ba89c239e6d852bb50c",
            "6ca1096e24ac47599f169279e701ce08",
            "0e47d975c08d411d803915ccc35303f1",
            "133f54c062714791a8cd6859c76d48ad",
            "286860689b8c410fb3d855b4d2bfd731",
            "e210d89125d043c7b74cee6c60662118",
            "13a8a0ffcdc14ef2953fce4e176d73f7",
            "63b3f6e3218f449cb6ad5335046c7659",
            "1b6be3c768d54583b5e636f65d05c011",
            "252d75f0c88f4e968df13c84e0d1c5bd",
            "1f6ce977878a493eab7e31367a2df16e",
            "b4e1115a5fb54618869a042e59835627",
            "7b24922319ae4e6683065f43dcbe87b4",
            "6aad1bb566bb41efb1748d1627312147",
            "f61c1360dadf4e48a1e378ea495c8b15",
            "c67c531a332b427ba3073139263996f4",
            "9d613558e97446cfb371bfd90f0f0f84",
            "1088caebf87446489b98b2d725106914",
            "be74bd8e1d1c418ea78f4b4a9c634351",
            "ba833f5c3a5b44c0af65b5f77e6459a5",
            "85aaef73b8a8493fba8fc85f535e04bf",
            "155de1d4e2e04f7d83d885aa4ba43719",
            "c02fd02d91654d70b54b414b5a589e0d",
            "0a50bf282e8b47c7ae8b7df720556c4b",
            "8f4e05f73e884540abaa12c900f28cde",
            "f73fa915475c4ceea830ce596798c75b",
            "00be114ae8584b2abd807d03a100956d",
            "ea502e81f4a6410f84db93b6e676d161",
            "7f2c629644fa4b8eb95769fefe5d117d",
            "e0ebac227eda46ab9aae0c91d84c1d65",
            "ad935b9f743649c28fa2dffe70ef6207",
            "8326d2e4128f4115a2186ca3b790dc95",
            "0adf51fc33fa4ff3a06e8fd27a8889e9",
            "b6bfb59694cc40fc829c497fdc083d1a",
            "69908b13dc604da4b9b0705b674ec925",
            "09d62f9b340c45e7a4a18b151d635e88",
            "532299329fd64f35a92156dc0226af47",
            "6dfe3651c9bb435bb44641b1f2896f57",
            "fb5db1bd42a4487b99ad4c6a47e50d2b",
            "7c9097eb39cd416a8e988b2f93969d2d",
            "ee4d892b93c24a0ca99f5af586232f41"
          ]
        },
        "id": "BUZisv6AEYHB",
        "outputId": "637fea02-ca19-4db6-84f2-98c988daec16"
      },
      "outputs": [
        {
          "name": "stdout",
          "output_type": "stream",
          "text": [
            "Epoch 1: val_acc=0.8504\n"
          ]
        },
        {
          "name": "stdout",
          "output_type": "stream",
          "text": [
            "Epoch 2: val_acc=0.9442\n"
          ]
        },
        {
          "name": "stdout",
          "output_type": "stream",
          "text": [
            "Epoch 3: val_acc=0.9593\n"
          ]
        },
        {
          "name": "stdout",
          "output_type": "stream",
          "text": [
            "Epoch 4: val_acc=0.9679\n"
          ]
        },
        {
          "name": "stdout",
          "output_type": "stream",
          "text": [
            "Epoch 5: val_acc=0.9679\n",
            "Improved EffNetV2-S: (0.96, 0.9595400854322612, np.float64(0.9554848699104521))\n"
          ]
        }
      ],
      "source": [
        "improved_results = {}\n",
        "\n",
        "effnet = timm.create_model('efficientnetv2_rw_s', pretrained=True, num_classes=NUM_CLASSES)\n",
        "effnet = fit_onecycle(effnet, epochs=5, max_lr=1e-4)\n",
        "improved_results['EffNetV2-S'] = evaluate(effnet, test_loader)\n",
        "print('Improved EffNetV2-S:', improved_results['EffNetV2-S'])"
      ]
    },
    {
      "cell_type": "code",
      "execution_count": 13,
      "metadata": {
        "colab": {
          "base_uri": "https://localhost:8080/",
          "height": 1000,
          "referenced_widgets": [
            "ee847da9ce184df8a3d3d1124d6d0261",
            "9990ab4f24784f7f9cf89170683f25d4",
            "1fe5102d696a4243b778087e35d89d80",
            "95757fac19ed40f6b7caeaa72d49266c",
            "61960728b5da4879b6c69de825dd8e00",
            "5967c5d2ca4d4327bb1eec4a853ec4cb",
            "89064cd007a84576800dd97fa42d63f4",
            "e9fd10de6f514902a6d9517d59c10a57",
            "361f403a21e947319922943d53bf74df",
            "be06209f485043caa1593963fb6d5fb2",
            "7ab7ca4db0c44febbf78c5410606c0fe",
            "91ab84902f0a4248af7ffbbf4ae609bb",
            "4312c3c1959d4c62bb0cd69ef017ac8e",
            "698f4484019d4e99bd66504b818640d3",
            "040be3ad5160419993e65af8c9378f66",
            "cda25c53b52c4af38b958a46f90883ab",
            "c430cb96f2fa422ab6b3d63439c6f5ce",
            "6d9f90570b154a83b40ba17e25398e6d",
            "7ea3e2407af544c8aeb6b1971106d55f",
            "1fae8e4118b14d50a121c9c5f0e873a8",
            "483ebb44a15047cb8219689910c15813",
            "1463f67d93764915be9a6f817b4adde0",
            "d987e0322a81455b8fc5e9f76c7fcbb3",
            "54bf5bd5b5de4e9187d23ca495f911f3",
            "e9440d2f00f74c7bacc45d160a930f3c",
            "a772755077b040daae86d352708a5de1",
            "b44fee2cf2914060903a6c7df282e016",
            "16a3a2160c254b2aaa3f31b27c2219de",
            "24ee68b9240444548014b7caa4ee830e",
            "42a8dd9924d2499292c755365b778ec4",
            "7bc7a9197a21456989c2ba87b26b88d9",
            "04cee74de47442de9fa973f0380d90d3",
            "ac4af8ddb040465ba716e6bbce2d2ed9",
            "da68c4dbd97446bbab1e2734ee871d23",
            "564e8ce7a93443d2b914fec7caebd447",
            "92a0ce1c3e514cf2afbb36f6b95b0efd",
            "297cbba5dbcc46ab94faa5dce90e5e1c",
            "6b5800c974444a3eb0a0b268c615e0dc",
            "74bb686051d543229c3736eafb4837b2",
            "9e1b14a034f34a48bad5f90b0a876bd3",
            "24dbbd9a8c40480b9a05c87d5aec308a",
            "5afb89e688f74a5fa8a4e74801ef137f",
            "a61190bd7ec34b43b7084242accc0746",
            "82189d6a41a449a39897ffad997e1f27",
            "0e423a3584a9495cbb7dbf3c51ea7305",
            "cc29c9b4867048ec9248c9da1ffd1c91",
            "a79c6ab5454c4b4e8d21ec190a77bb39",
            "4d6647e6945e4eea98799f37f371a5fe",
            "163233f94cdb4554a82b4c6f4b344dc0",
            "52093009feb34612bddbf1e8f5348e6e",
            "8ee27fda281945e5b95f2af8c2819a19",
            "e53ce5a9c3c74832bd6ace9c2282a46d",
            "c435da8a51f64ae79e532f0893715f4f",
            "35070eeea03a4342973707e62641e2bf",
            "8d704c727cc34611b6c6bff151b70233",
            "b586f34d67b84c2b8b05c0ac8d8cc9a8",
            "479ef8d0a99e413ab8c6054c34154172",
            "376cd6ebd81d4bbf886f3d4a5c259a74",
            "2b23fb2caddc43cd8d5e93be92f67b64",
            "30b665df13b14f21bc94f899f40c81b2",
            "9e4d0e57983c4d0a9bcc6504a1652df8",
            "3e7e5146f3d04555a80c72dbc5f952d8",
            "5077230b551b4ef7a25b78d5bcf8777c",
            "cf9d9cb86abc418fab65b2d79662040e",
            "2a9af920797e42f6918e87fc41b0ba55",
            "fee3d2a5a76847c997cdab419a7d499c"
          ]
        },
        "id": "uAn0Pj8yEZTa",
        "outputId": "197f6c29-93f8-4ea6-c580-f185a9869cfe"
      },
      "outputs": [
        {
          "name": "stdout",
          "output_type": "stream",
          "text": [
            "Epoch 1: val_acc=0.9373\n"
          ]
        },
        {
          "name": "stdout",
          "output_type": "stream",
          "text": [
            "Epoch 2: val_acc=0.9348\n"
          ]
        },
        {
          "name": "stdout",
          "output_type": "stream",
          "text": [
            "Epoch 3: val_acc=0.9820\n"
          ]
        },
        {
          "name": "stdout",
          "output_type": "stream",
          "text": [
            "Epoch 4: val_acc=0.9827\n"
          ]
        },
        {
          "name": "stdout",
          "output_type": "stream",
          "text": [
            "Epoch 5: val_acc=0.9852\n",
            "Improved DeiT-S: (0.9839506172839506, 0.983661636245506, np.float64(0.9821395338991646))\n"
          ]
        }
      ],
      "source": [
        "deit = timm.create_model('deit_small_patch16_224', pretrained=True, num_classes=NUM_CLASSES)\n",
        "deit = fit_onecycle(deit, epochs=5, max_lr=5e-5)\n",
        "improved_results['DeiT-S'] = evaluate(deit, test_loader)\n",
        "print('Improved DeiT-S:', improved_results['DeiT-S'])"
      ]
    },
    {
      "cell_type": "markdown",
      "metadata": {
        "id": "7BY-agbTEd3n"
      },
      "source": [
        "Сравним бейзлайн и улучшенный бейзлайн далее.\n",
        "\n",
        "## 4. Собственная имплементация моделей\n",
        "\n",
        "### 4.a Свёрточная сеть SimpleCNN"
      ]
    },
    {
      "cell_type": "code",
      "execution_count": 14,
      "metadata": {
        "id": "ZWC7tm4gEiLf"
      },
      "outputs": [],
      "source": [
        "class SimpleCNN(nn.Module):\n",
        "    def __init__(self, num_classes):\n",
        "        super().__init__()\n",
        "        self.features = nn.Sequential(\n",
        "            nn.Conv2d(3, 32, 3, padding=1), nn.BatchNorm2d(32), nn.ReLU(),\n",
        "            nn.MaxPool2d(2),\n",
        "            nn.Conv2d(32, 64, 3, padding=1), nn.BatchNorm2d(64), nn.ReLU(),\n",
        "            nn.MaxPool2d(2),\n",
        "            nn.Conv2d(64, 128, 3, padding=1), nn.BatchNorm2d(128), nn.ReLU(),\n",
        "            nn.MaxPool2d(2),\n",
        "            nn.Conv2d(128, 256, 3, padding=1), nn.BatchNorm2d(256), nn.ReLU(),\n",
        "            nn.AdaptiveAvgPool2d(1),\n",
        "        )\n",
        "        self.classifier = nn.Linear(256, num_classes)\n",
        "\n",
        "    def forward(self, x):\n",
        "        x = self.features(x)\n",
        "        x = torch.flatten(x, 1)\n",
        "        return self.classifier(x)"
      ]
    },
    {
      "cell_type": "markdown",
      "metadata": {
        "id": "1XN25PqrEjYy"
      },
      "source": [
        "### 4.b Лёгкий Vision Transformer TinyViT"
      ]
    },
    {
      "cell_type": "code",
      "execution_count": 15,
      "metadata": {
        "id": "umRXyeA_Ekuw"
      },
      "outputs": [],
      "source": [
        "class PatchEmbed(nn.Module):\n",
        "    def __init__(self, img_size=IMG_SIZE, patch=8, in_ch=3, embed_dim=128):\n",
        "        super().__init__()\n",
        "        self.proj = nn.Conv2d(in_ch, embed_dim, kernel_size=patch, stride=patch)\n",
        "        self.cls_token = nn.Parameter(torch.randn(1, 1, embed_dim))\n",
        "        self.pos_embed = nn.Parameter(torch.randn(1, (img_size//patch)**2 + 1, embed_dim))\n",
        "\n",
        "    def forward(self, x):\n",
        "        B = x.size(0)\n",
        "        x = self.proj(x).flatten(2).transpose(1, 2)\n",
        "        cls = self.cls_token.expand(B, -1, -1)\n",
        "        x = torch.cat((cls, x), 1) + self.pos_embed\n",
        "        return x\n",
        "\n",
        "class TransformerEncoder(nn.Module):\n",
        "    def __init__(self, dim, heads=4, mlp_ratio=2.):\n",
        "        super().__init__()\n",
        "        self.norm1 = nn.LayerNorm(dim)\n",
        "        self.attn = nn.MultiheadAttention(dim, heads, batch_first=True)\n",
        "        self.norm2 = nn.LayerNorm(dim)\n",
        "        self.mlp = nn.Sequential(nn.Linear(dim, int(dim*mlp_ratio)),\n",
        "                                 nn.GELU(),\n",
        "                                 nn.Linear(int(dim*mlp_ratio), dim))\n",
        "\n",
        "    def forward(self, x):\n",
        "        x = x + self.attn(self.norm1(x), self.norm1(x), self.norm1(x))[0]\n",
        "        x = x + self.mlp(self.norm2(x))\n",
        "        return x\n",
        "\n",
        "class TinyViT(nn.Module):\n",
        "    def __init__(self, num_classes, depth=4, dim=128):\n",
        "        super().__init__()\n",
        "        self.embed = PatchEmbed(embed_dim=dim)\n",
        "        self.blocks = nn.Sequential(*[TransformerEncoder(dim) for _ in range(depth)])\n",
        "        self.norm = nn.LayerNorm(dim)\n",
        "        self.head = nn.Linear(dim, num_classes)\n",
        "\n",
        "    def forward(self, x):\n",
        "        x = self.embed(x)\n",
        "        x = self.blocks(x)\n",
        "        x = self.norm(x)\n",
        "        return self.head(x[:,0])"
      ]
    },
    {
      "cell_type": "markdown",
      "metadata": {
        "id": "ICfJK9MaExz7"
      },
      "source": [
        "### 4.c Обучение собственных моделей"
      ]
    },
    {
      "cell_type": "code",
      "execution_count": 16,
      "metadata": {
        "colab": {
          "base_uri": "https://localhost:8080/",
          "height": 1000,
          "referenced_widgets": [
            "b91cedaab9524e19810c225bd391166b",
            "b4fd56f567514073a1ff50777b4535c0",
            "9a9509f9842c4fc3adc4ee49a9990135",
            "25bffdea864d477b90cbc1ab31085802",
            "081570b9aef5402899a2433efa045eb7",
            "549808af83ab444ebc3d48c1852fa450",
            "022e6a01104144d385315928810e1350",
            "07f45f2fc66b481987c7ce764a511969",
            "6837d1817f2e4af69183c90471763f09",
            "ecda62aba5d2445a966bc8f6d55ad384",
            "967ea44c7181445e8645384b0703c3a3",
            "3153a10ccbf6481aba540f28251bc9d9",
            "0e089ac257254df68b454b98e9457f65",
            "724ab77f75c04db4bf660f85dbfdabe6",
            "6689d9e48f4143269ab391b9669f1a70",
            "3ee7241337fa4345a4732fb49aed4228",
            "f10659468fbb4ebeb4623a8a70cac76f",
            "84919888221e407dbe253d46225b8539",
            "2d80f6b53c98485cb522e92b74ec19a4",
            "69c402800da24950951712f2957dfb40",
            "e765e94ddca44dafb148a218c8d11b8e",
            "f6b3798f73ed469781d9a5b3f21e29bb",
            "b24a66f98ca24f2797bb60dbe3f56469",
            "57922c6e9e1543f78f12b706337105e4",
            "24bfd4149473489b817a754ecfff2dd0",
            "76975e4a8e7541659cc88131151905c7",
            "15900b3d23e14f909971aca7e6b6c1b8",
            "caa17473e4794b77b93f561800f88dfc",
            "a9b49eee29fb46c3998220818310024c",
            "50674f87db8c4114ba47aa2752895078",
            "77a5b2a35ef7449d8eed320efc4ea40d",
            "0308eb0ed80f4f46a1c4a49c0036a99a",
            "3225664604344da9a2f1d38fb31562f5",
            "84be0ddbe1834ff693edb8f9b363187c",
            "4e573dfbd6f843d6bd22c783958c499e",
            "0ff1673ba15e47a1915e67d92eef0cc7",
            "86387b6df63c44c0b88c62c3e2548702",
            "a2d04a227e56464dafe61604cba6da77",
            "eb7032027264490a84d6655b09ba7ba4",
            "8c46d5bbb7c84f1fbfb34d1586e679e5",
            "fc7b93367c9248b5a720927c79172cb7",
            "396a378d72e64b7b867ee290e86cd55b",
            "2d38b6f716c84f65866aacc6086039c7",
            "a2ca77737ba3479883ec78d331c33c06",
            "ab0812676319405fb2ea0eefb93e50dd",
            "486e012612f3470c9de18266846d19a8",
            "6cacb1267b044dc2bc8578a390bd0247",
            "c6290dfb6eed4066a3591959bac1abb6",
            "64d91e14906b4117af98d2eca5a3f218",
            "1cdbf21248c54a8d850fb47a147a3538",
            "fa4b45e447ea41078c62fed7cba1d065",
            "996e7d75ab7d483899bace7404032447",
            "abfb5e06dd2643d9a3f17886b0fe4c8a",
            "0daf6319476249c8857cf71e900fee2d",
            "d5dca4e2599f4b7a91ac0667224c7393",
            "6f2834fd4b5c4b55b3ea768a61f67747",
            "2054a0d13ca141a0ad4349880f6ca694",
            "e14aa48e998e45528a36c21b06846e56",
            "41a34a7d4bd04d9a9a8f80d2b515f608",
            "66ef848c144647738b56f22c8bd3b9ec",
            "4b95c2fec72d4d639216e5fd666e1b76",
            "5fd4a519711a49e79dc9b0cbd617e05a",
            "5cc3b389449149d1850ccaaea16cef6d",
            "6cb3e045e1cf45b6ac5ebce3a7890195",
            "60292b0935f546138721cc2e476223bf",
            "1ba51df82df7437ba192ec48e41eced4",
            "50031cc4e5dd4684a00e7f293ac7b414",
            "2ecf69c97325481d8eaadc92088da9ea",
            "d86c62e481f0474f99d990c7f0845860",
            "d91b310b56214f8e80ee9ee75cde154a",
            "05b75cf6b38a41139d81c664b9877d04",
            "65208e5233ff49f0874ba0f7beaf6569",
            "0d5fafb632334ccb8433f814d1f0b535",
            "f7bfffe8aa1e42659bf696c3bd43dcc4",
            "93ce10bd87e34d15bba36f15d6e36b5a",
            "8875843ba7c44eeda0756483b7b6685c",
            "1d027ffec3334c2087ce8a124c2dd69d",
            "6275084568f94631afe8c296693b41b7",
            "47778c7518e74cd8a33a41bb4d03e571",
            "916016a6b2154669aa4e446e341779bc",
            "92061f05e34e4deea007de79e041691c",
            "911255fdaf874c44bfeaee106e95f04a",
            "12d4b1ebffb846c88f1f875ed6ccfb02",
            "ca7e5f59193e4690bfb71c6392cbcf0e",
            "78c74cf32a1243689f9c2d58cd6f8705",
            "d8fba0ebb90a4f2a8ca1e90a459733c9",
            "e3794e977d47459fb880b06ebef09cfe",
            "43e94e5b68b04094a9941033da1cffcd",
            "8822a68e7c9349f18f49de84a6224885",
            "519b541bb765451ead5adfbf9c92fff0",
            "382b718bf7754ec094e448562695aec0",
            "162feb74227d4d758938b216aab9892c",
            "9ed4222800414a9ab28148169a5c6735",
            "7529dfd5a11948849d5f526f9de7fee7",
            "f6b05254e03b4a6bab26aace1e1f5ba8",
            "0e55a07fb93e41c3a5b9b3debd685765",
            "e5539632487143ab88f7624774ddb846",
            "c694d4683a784e4db854443b28a901cf",
            "6b74dcb8ceeb46be9f849a9a35b9e40d",
            "b1c5e6449537456097d5764301142511",
            "983b136056a44ff4ba1968c6cd5cfb06",
            "80b62c8bdea0459285599f247b293d9e",
            "73febb3dfb8a46d2a7baeb7b15af1146",
            "80fffec94dde4c68b8cc94dd1dea53c7",
            "f1dc3405cdfe4c5aadd84bebe500f93f",
            "1bfb42af93344efca269afe94ebcfed7",
            "4ce4762139334f5682ee14733d5fab0d",
            "98adf3ddb10b4c9890789e9fcc571679",
            "ae4e971d93a54193af233afc618b91a4",
            "cd2db4f6d94449ba82c46f0ebad69f51"
          ]
        },
        "id": "x-IbNYuzEyjD",
        "outputId": "b41fcf39-589f-4f6c-e2eb-d9068fdc84e9"
      },
      "outputs": [
        {
          "name": "stdout",
          "output_type": "stream",
          "text": [
            "Epoch 1: val_acc=0.5477\n"
          ]
        },
        {
          "name": "stdout",
          "output_type": "stream",
          "text": [
            "Epoch 2: val_acc=0.6291\n"
          ]
        },
        {
          "name": "stdout",
          "output_type": "stream",
          "text": [
            "Epoch 3: val_acc=0.6452\n"
          ]
        },
        {
          "name": "stdout",
          "output_type": "stream",
          "text": [
            "Epoch 4: val_acc=0.6304\n"
          ]
        },
        {
          "name": "stdout",
          "output_type": "stream",
          "text": [
            "Epoch 5: val_acc=0.7617\n"
          ]
        },
        {
          "name": "stdout",
          "output_type": "stream",
          "text": [
            "Epoch 6: val_acc=0.7938\n"
          ]
        },
        {
          "name": "stdout",
          "output_type": "stream",
          "text": [
            "Epoch 7: val_acc=0.8356\n"
          ]
        },
        {
          "name": "stdout",
          "output_type": "stream",
          "text": [
            "Epoch 8: val_acc=0.8400\n"
          ]
        },
        {
          "name": "stdout",
          "output_type": "stream",
          "text": [
            "Epoch 9: val_acc=0.8642\n"
          ]
        },
        {
          "name": "stdout",
          "output_type": "stream",
          "text": [
            "Epoch 10: val_acc=0.8617\n",
            "SimpleCNN test: (0.8597530864197531, 0.8539296056075015, np.float64(0.8439594945872178))\n"
          ]
        }
      ],
      "source": [
        "custom_results = {}\n",
        "\n",
        "simplecnn = SimpleCNN(NUM_CLASSES)\n",
        "simplecnn = fit_onecycle(simplecnn, epochs=10, max_lr=1e-3)\n",
        "custom_results['SimpleCNN'] = evaluate(simplecnn, test_loader)\n",
        "print('SimpleCNN test:', custom_results['SimpleCNN'])"
      ]
    },
    {
      "cell_type": "code",
      "execution_count": 17,
      "metadata": {
        "colab": {
          "base_uri": "https://localhost:8080/",
          "height": 1000,
          "referenced_widgets": [
            "6037d09c6a7440fb898847daea0de094",
            "6f95b0bb1e1e4bca96985b7b84ecb2d7",
            "6fd34dddd51c4272a35beea6d249f5cb",
            "e9da81c397ed454fbde17d2b03f2cff5",
            "1c9da8acaeff4d508b17377aa9f13aae",
            "477112614ba1487c9d0411b8842e91de",
            "fc21f6ef035e46479e5dac9fbd582093",
            "7dab32e9924a41b882617c8e22216f10",
            "8f14b33a1da54a109466c68129b433d4",
            "24fa12aae00e43d5ae3e6ecc51185250",
            "f95c01e02bd64cbd9fab500a2af37305",
            "73efddaec8d64a5d8a66da539d767f14",
            "994120fe2aef4fe89832d45e8688fb25",
            "ce7d3bfd2563419ab31967f47e9d1c7f",
            "d3b860a57f1f47fa86d6985425a7f222",
            "2c3e76ccbccd4324aa1967388c489945",
            "9d1ec0b6b337451da4241511035ce8c4",
            "ddaebccc4a914e57aefd0614157edb33",
            "6fa2b8510a5b44b68514115aae2530fe",
            "c5e990ca2d42477db2bdffd59ff87f08",
            "cf6f38ee067b49a09119021ae6a65212",
            "2e9928595d8746cf8304a07f8cda292f",
            "1678d53872424c03a368c1181619ece2",
            "41c32ee927204bd6a289477bdd558e63",
            "afb1f26b9c4848ed93bf1da6ddd798ec",
            "62945b05e88f486eac5c6df4bcd1a2ed",
            "3b719e5f79824580a312d66fcd71a623",
            "c7e37feb6edf4f6b89cbeab70f1e020f",
            "007e715766b6474aa5819cd12aaadf6f",
            "ee1aecdf6ccd464fa6ecb4b71a191da1",
            "eae96e25672b4adbbbb7899d4423ca18",
            "0562eee9bda5439089c60a1a318f5dc6",
            "e597699b3af7439b8b9d7c0faf1cd694",
            "0b04ec33eb794e9a8a1c1cbc6b39fb2f",
            "0e52f792caae410caa86f5108d770555",
            "5bf00170cd8548aa9327564063f7bc42",
            "b78653e99f90419e9e69241f2d82b280",
            "8e826afacd8b44bda313fcf55cc053c1",
            "97d2c600e0e442019d5431fe69772ff6",
            "32b76c4daeae4bda904a2574fed52b9c",
            "5bb5fcb8107649de8e939f372bc68e9f",
            "30385e42f3f44c60970aeb6293152e90",
            "068383dc5e414fb08c3cf59f41a4837e",
            "9f32cd1628804803a85ff07177da7686",
            "78ddebb348254a219e3cbdbf02b472b6",
            "32e2767a2c624b669fd8d980ef0bc25b",
            "8b490965ed63404f93edd6d9b3d9f67d",
            "ece4a6f20e08490e994a77c08e2ed371",
            "9f3351d3431c41fd85aa0e33358394c6",
            "f10df0c8a9624ea481e339fae996805b",
            "01788e62153247529fdfa2e91c083fe9",
            "e614d7eae1d54900b87b6b1ab9a69c1c",
            "d691fdfdbb274a19a33a4e474285f3a6",
            "0953a9818ee345fe94f91da56df43e3f",
            "b525e4b8b8ff478bb4f9577fb408b4ba",
            "622bd2badfd14df782f641568a3eeb59",
            "fc2076c86e0d4886bc1a47b648b2500f",
            "93effeed5e934e4592347f9ae3cb13b9",
            "5845280d522e4fb297639d27d43ea86b",
            "5271ab69228745aab4b3c0e02c4a0cd1",
            "eca9e8292ee04152ac6f4cee498261c0",
            "e4611fdd81914afca918218f480dacea",
            "4c57aaea10864f56869b82eaf424d68e",
            "933f0d99a7de485a95b3a64cf80cde61",
            "5386620dc34848f5a5415c0740cb6b41",
            "ffc8f90cb93d4507b3f6baf5e7536df6",
            "b98cda2f65064001a4c01f7ea5b0512d",
            "54e094adf0504d1089b90878c63e01ee",
            "4d749e5e2dda4801b9077e19bda5d30e",
            "b5a4e249b7c84b2fb2071ca952cb19e1",
            "735795f715074e0188a1966bb42d5697",
            "f4267beb5dab4ed4b6fccdc980c0cf14",
            "842a5e6ef5b64430af03105141ccf8d3",
            "4aa4dcd7bdc4424686179d6b72716783",
            "a27077d004174731b9815a007acdbd94",
            "3eca8b509d36403197281178773cfc5e",
            "350b45c2407e4bf6b6bbeebad3c64d54",
            "ff687c8858d3486a9a0c58fefeb9515e",
            "11dcdae4558b44da9ff1ebb4508c1567",
            "d5190c3e324546bc82eb015156c35b45",
            "dbcc789d570b42c5865eaff405ab72e9",
            "39ee8b7141434b96b978ca6ec47d669a",
            "534e095d91d54c9db796bee88398ab73",
            "02812131a1f7448b9b51aaffed27fc5a",
            "c27fda03f1aa41a995e112f1305c3b44",
            "4a0c8a988b034a30b72ccbb4a9224b79",
            "4f7cf11192fb44fd956b607eabf27130",
            "66f8d7064ea1429d8ab8b10cf7c950f2",
            "08f927f98f04496d8d9641211b1b5796",
            "dcbd5da5c3ef4e1f9c9bcbc6c5bddff9",
            "5304bc935949468890ed39b26278f678",
            "d99c087484a84d0b98832e9323fd5862",
            "d91d7be926894e908f774d8ed60bef61",
            "f5ca26524de44ba2a76ff2580bf98196",
            "9c88159f818e45febb4a6142a396b809",
            "9cb95d52d0bd43d5940945fe43c1f7b8",
            "8b2493cc977048a4a1429be7a4217029",
            "f926b66e894d48ceb953a07a5e24d9b7",
            "a9bde283147048ae86cf615a4627d514",
            "6f34b4efed29468097dd28789ba42437",
            "46e7064a7b6b4137bfb898c5abac6b29",
            "38d8cb1e6c42474897501ed4847e1e02",
            "4b30afe3df7c4c768b19a0d62c41811a",
            "f9288c7e3d5a4e2b8eeb13f42ebeab1a",
            "c6099001005f4a888421cf81937df180",
            "b3a3acdbb42b4022bb03ed2f9f5ef5b2",
            "fdbc0a066d6b4f0fb2248b7c7545047a",
            "78f780626a554921813dd1576c388155",
            "ab08150d23884687be220951629e39e0",
            "b1d57531a6ef4042b5f88b6148a8c6df"
          ]
        },
        "id": "xGYQ4sHaEzog",
        "outputId": "cebb8674-1509-4e42-b646-153d56c23156"
      },
      "outputs": [
        {
          "name": "stdout",
          "output_type": "stream",
          "text": [
            "Epoch 1: val_acc=0.4244\n"
          ]
        },
        {
          "name": "stdout",
          "output_type": "stream",
          "text": [
            "Epoch 2: val_acc=0.6067\n"
          ]
        },
        {
          "name": "stdout",
          "output_type": "stream",
          "text": [
            "Epoch 3: val_acc=0.6595\n"
          ]
        },
        {
          "name": "stdout",
          "output_type": "stream",
          "text": [
            "Epoch 4: val_acc=0.6770\n"
          ]
        },
        {
          "name": "stdout",
          "output_type": "stream",
          "text": [
            "Epoch 5: val_acc=0.7131\n"
          ]
        },
        {
          "name": "stdout",
          "output_type": "stream",
          "text": [
            "Epoch 6: val_acc=0.7346\n"
          ]
        },
        {
          "name": "stdout",
          "output_type": "stream",
          "text": [
            "Epoch 7: val_acc=0.7481\n"
          ]
        },
        {
          "name": "stdout",
          "output_type": "stream",
          "text": [
            "Epoch 8: val_acc=0.7699\n"
          ]
        },
        {
          "name": "stdout",
          "output_type": "stream",
          "text": [
            "Epoch 9: val_acc=0.7765\n"
          ]
        },
        {
          "name": "stdout",
          "output_type": "stream",
          "text": [
            "Epoch 10: val_acc=0.7795\n",
            "TinyViT test: (0.7770370370370371, 0.7701192358801896, np.float64(0.7519638946948494))\n"
          ]
        }
      ],
      "source": [
        "tinyvit = TinyViT(NUM_CLASSES)\n",
        "tinyvit = fit_onecycle(tinyvit, epochs=10, max_lr=2e-4)\n",
        "custom_results['TinyViT'] = evaluate(tinyvit, test_loader)\n",
        "print('TinyViT test:', custom_results['TinyViT'])"
      ]
    },
    {
      "cell_type": "markdown",
      "metadata": {
        "id": "Uubew9nwE09x"
      },
      "source": [
        "## 5. Сравнение результатов"
      ]
    },
    {
      "cell_type": "code",
      "execution_count": 18,
      "metadata": {
        "colab": {
          "base_uri": "https://localhost:8080/",
          "height": 238
        },
        "id": "xgkg9Y6PE2Yv",
        "outputId": "a6a081c6-4928-43a6-c2dc-c8214e4a7d0b"
      },
      "outputs": [
        {
          "data": {
            "application/vnd.google.colaboratory.intrinsic+json": {
              "summary": "{\n  \"name\": \"df\",\n  \"rows\": 6,\n  \"fields\": [\n    {\n      \"column\": \"Accuracy\",\n      \"properties\": {\n        \"dtype\": \"number\",\n        \"std\": 0.08530117945122416,\n        \"min\": 0.7770370370370371,\n        \"max\": 0.9864197530864197,\n        \"num_unique_values\": 6,\n        \"samples\": [\n          0.9674074074074074,\n          0.9864197530864197,\n          0.7770370370370371\n        ],\n        \"semantic_type\": \"\",\n        \"description\": \"\"\n      }\n    },\n    {\n      \"column\": \"Macro\\u202fF1\",\n      \"properties\": {\n        \"dtype\": \"number\",\n        \"std\": 0.0881855415696234,\n        \"min\": 0.7701192358801896,\n        \"max\": 0.9856256925808424,\n        \"num_unique_values\": 6,\n        \"samples\": [\n          0.9661639249991417,\n          0.9856256925808424,\n          0.7701192358801896\n        ],\n        \"semantic_type\": \"\",\n        \"description\": \"\"\n      }\n    },\n    {\n      \"column\": \"Cohen\\u202f\\u03ba\",\n      \"properties\": {\n        \"dtype\": \"number\",\n        \"std\": 0.09489161310716643,\n        \"min\": 0.7519638946948494,\n        \"max\": 0.9848843515478424,\n        \"num_unique_values\": 6,\n        \"samples\": [\n          0.9637262787436672,\n          0.9848843515478424,\n          0.7519638946948494\n        ],\n        \"semantic_type\": \"\",\n        \"description\": \"\"\n      }\n    }\n  ]\n}",
              "type": "dataframe",
              "variable_name": "df"
            },
            "text/html": [
              "\n",
              "  <div id=\"df-a8de5070-4006-4273-b811-bab86ec535ff\" class=\"colab-df-container\">\n",
              "    <div>\n",
              "<style scoped>\n",
              "    .dataframe tbody tr th:only-of-type {\n",
              "        vertical-align: middle;\n",
              "    }\n",
              "\n",
              "    .dataframe tbody tr th {\n",
              "        vertical-align: top;\n",
              "    }\n",
              "\n",
              "    .dataframe thead th {\n",
              "        text-align: right;\n",
              "    }\n",
              "</style>\n",
              "<table border=\"1\" class=\"dataframe\">\n",
              "  <thead>\n",
              "    <tr style=\"text-align: right;\">\n",
              "      <th></th>\n",
              "      <th>Accuracy</th>\n",
              "      <th>Macro F1</th>\n",
              "      <th>Cohen κ</th>\n",
              "    </tr>\n",
              "  </thead>\n",
              "  <tbody>\n",
              "    <tr>\n",
              "      <th>ResNet18</th>\n",
              "      <td>0.967407</td>\n",
              "      <td>0.966164</td>\n",
              "      <td>0.963726</td>\n",
              "    </tr>\n",
              "    <tr>\n",
              "      <th>ViT-B16</th>\n",
              "      <td>0.986420</td>\n",
              "      <td>0.985626</td>\n",
              "      <td>0.984884</td>\n",
              "    </tr>\n",
              "    <tr>\n",
              "      <th>EffNetV2-S</th>\n",
              "      <td>0.960000</td>\n",
              "      <td>0.959540</td>\n",
              "      <td>0.955485</td>\n",
              "    </tr>\n",
              "    <tr>\n",
              "      <th>DeiT-S</th>\n",
              "      <td>0.983951</td>\n",
              "      <td>0.983662</td>\n",
              "      <td>0.982140</td>\n",
              "    </tr>\n",
              "    <tr>\n",
              "      <th>SimpleCNN</th>\n",
              "      <td>0.859753</td>\n",
              "      <td>0.853930</td>\n",
              "      <td>0.843959</td>\n",
              "    </tr>\n",
              "    <tr>\n",
              "      <th>TinyViT</th>\n",
              "      <td>0.777037</td>\n",
              "      <td>0.770119</td>\n",
              "      <td>0.751964</td>\n",
              "    </tr>\n",
              "  </tbody>\n",
              "</table>\n",
              "</div>\n",
              "    <div class=\"colab-df-buttons\">\n",
              "\n",
              "  <div class=\"colab-df-container\">\n",
              "    <button class=\"colab-df-convert\" onclick=\"convertToInteractive('df-a8de5070-4006-4273-b811-bab86ec535ff')\"\n",
              "            title=\"Convert this dataframe to an interactive table.\"\n",
              "            style=\"display:none;\">\n",
              "\n",
              "  <svg xmlns=\"http://www.w3.org/2000/svg\" height=\"24px\" viewBox=\"0 -960 960 960\">\n",
              "    <path d=\"M120-120v-720h720v720H120Zm60-500h600v-160H180v160Zm220 220h160v-160H400v160Zm0 220h160v-160H400v160ZM180-400h160v-160H180v160Zm440 0h160v-160H620v160ZM180-180h160v-160H180v160Zm440 0h160v-160H620v160Z\"/>\n",
              "  </svg>\n",
              "    </button>\n",
              "\n",
              "  <style>\n",
              "    .colab-df-container {\n",
              "      display:flex;\n",
              "      gap: 12px;\n",
              "    }\n",
              "\n",
              "    .colab-df-convert {\n",
              "      background-color: #E8F0FE;\n",
              "      border: none;\n",
              "      border-radius: 50%;\n",
              "      cursor: pointer;\n",
              "      display: none;\n",
              "      fill: #1967D2;\n",
              "      height: 32px;\n",
              "      padding: 0 0 0 0;\n",
              "      width: 32px;\n",
              "    }\n",
              "\n",
              "    .colab-df-convert:hover {\n",
              "      background-color: #E2EBFA;\n",
              "      box-shadow: 0px 1px 2px rgba(60, 64, 67, 0.3), 0px 1px 3px 1px rgba(60, 64, 67, 0.15);\n",
              "      fill: #174EA6;\n",
              "    }\n",
              "\n",
              "    .colab-df-buttons div {\n",
              "      margin-bottom: 4px;\n",
              "    }\n",
              "\n",
              "    [theme=dark] .colab-df-convert {\n",
              "      background-color: #3B4455;\n",
              "      fill: #D2E3FC;\n",
              "    }\n",
              "\n",
              "    [theme=dark] .colab-df-convert:hover {\n",
              "      background-color: #434B5C;\n",
              "      box-shadow: 0px 1px 3px 1px rgba(0, 0, 0, 0.15);\n",
              "      filter: drop-shadow(0px 1px 2px rgba(0, 0, 0, 0.3));\n",
              "      fill: #FFFFFF;\n",
              "    }\n",
              "  </style>\n",
              "\n",
              "    <script>\n",
              "      const buttonEl =\n",
              "        document.querySelector('#df-a8de5070-4006-4273-b811-bab86ec535ff button.colab-df-convert');\n",
              "      buttonEl.style.display =\n",
              "        google.colab.kernel.accessAllowed ? 'block' : 'none';\n",
              "\n",
              "      async function convertToInteractive(key) {\n",
              "        const element = document.querySelector('#df-a8de5070-4006-4273-b811-bab86ec535ff');\n",
              "        const dataTable =\n",
              "          await google.colab.kernel.invokeFunction('convertToInteractive',\n",
              "                                                    [key], {});\n",
              "        if (!dataTable) return;\n",
              "\n",
              "        const docLinkHtml = 'Like what you see? Visit the ' +\n",
              "          '<a target=\"_blank\" href=https://colab.research.google.com/notebooks/data_table.ipynb>data table notebook</a>'\n",
              "          + ' to learn more about interactive tables.';\n",
              "        element.innerHTML = '';\n",
              "        dataTable['output_type'] = 'display_data';\n",
              "        await google.colab.output.renderOutput(dataTable, element);\n",
              "        const docLink = document.createElement('div');\n",
              "        docLink.innerHTML = docLinkHtml;\n",
              "        element.appendChild(docLink);\n",
              "      }\n",
              "    </script>\n",
              "  </div>\n",
              "\n",
              "\n",
              "    <div id=\"df-509697c6-57b8-4954-8e75-e7fe2ff96d8b\">\n",
              "      <button class=\"colab-df-quickchart\" onclick=\"quickchart('df-509697c6-57b8-4954-8e75-e7fe2ff96d8b')\"\n",
              "                title=\"Suggest charts\"\n",
              "                style=\"display:none;\">\n",
              "\n",
              "<svg xmlns=\"http://www.w3.org/2000/svg\" height=\"24px\"viewBox=\"0 0 24 24\"\n",
              "     width=\"24px\">\n",
              "    <g>\n",
              "        <path d=\"M19 3H5c-1.1 0-2 .9-2 2v14c0 1.1.9 2 2 2h14c1.1 0 2-.9 2-2V5c0-1.1-.9-2-2-2zM9 17H7v-7h2v7zm4 0h-2V7h2v10zm4 0h-2v-4h2v4z\"/>\n",
              "    </g>\n",
              "</svg>\n",
              "      </button>\n",
              "\n",
              "<style>\n",
              "  .colab-df-quickchart {\n",
              "      --bg-color: #E8F0FE;\n",
              "      --fill-color: #1967D2;\n",
              "      --hover-bg-color: #E2EBFA;\n",
              "      --hover-fill-color: #174EA6;\n",
              "      --disabled-fill-color: #AAA;\n",
              "      --disabled-bg-color: #DDD;\n",
              "  }\n",
              "\n",
              "  [theme=dark] .colab-df-quickchart {\n",
              "      --bg-color: #3B4455;\n",
              "      --fill-color: #D2E3FC;\n",
              "      --hover-bg-color: #434B5C;\n",
              "      --hover-fill-color: #FFFFFF;\n",
              "      --disabled-bg-color: #3B4455;\n",
              "      --disabled-fill-color: #666;\n",
              "  }\n",
              "\n",
              "  .colab-df-quickchart {\n",
              "    background-color: var(--bg-color);\n",
              "    border: none;\n",
              "    border-radius: 50%;\n",
              "    cursor: pointer;\n",
              "    display: none;\n",
              "    fill: var(--fill-color);\n",
              "    height: 32px;\n",
              "    padding: 0;\n",
              "    width: 32px;\n",
              "  }\n",
              "\n",
              "  .colab-df-quickchart:hover {\n",
              "    background-color: var(--hover-bg-color);\n",
              "    box-shadow: 0 1px 2px rgba(60, 64, 67, 0.3), 0 1px 3px 1px rgba(60, 64, 67, 0.15);\n",
              "    fill: var(--button-hover-fill-color);\n",
              "  }\n",
              "\n",
              "  .colab-df-quickchart-complete:disabled,\n",
              "  .colab-df-quickchart-complete:disabled:hover {\n",
              "    background-color: var(--disabled-bg-color);\n",
              "    fill: var(--disabled-fill-color);\n",
              "    box-shadow: none;\n",
              "  }\n",
              "\n",
              "  .colab-df-spinner {\n",
              "    border: 2px solid var(--fill-color);\n",
              "    border-color: transparent;\n",
              "    border-bottom-color: var(--fill-color);\n",
              "    animation:\n",
              "      spin 1s steps(1) infinite;\n",
              "  }\n",
              "\n",
              "  @keyframes spin {\n",
              "    0% {\n",
              "      border-color: transparent;\n",
              "      border-bottom-color: var(--fill-color);\n",
              "      border-left-color: var(--fill-color);\n",
              "    }\n",
              "    20% {\n",
              "      border-color: transparent;\n",
              "      border-left-color: var(--fill-color);\n",
              "      border-top-color: var(--fill-color);\n",
              "    }\n",
              "    30% {\n",
              "      border-color: transparent;\n",
              "      border-left-color: var(--fill-color);\n",
              "      border-top-color: var(--fill-color);\n",
              "      border-right-color: var(--fill-color);\n",
              "    }\n",
              "    40% {\n",
              "      border-color: transparent;\n",
              "      border-right-color: var(--fill-color);\n",
              "      border-top-color: var(--fill-color);\n",
              "    }\n",
              "    60% {\n",
              "      border-color: transparent;\n",
              "      border-right-color: var(--fill-color);\n",
              "    }\n",
              "    80% {\n",
              "      border-color: transparent;\n",
              "      border-right-color: var(--fill-color);\n",
              "      border-bottom-color: var(--fill-color);\n",
              "    }\n",
              "    90% {\n",
              "      border-color: transparent;\n",
              "      border-bottom-color: var(--fill-color);\n",
              "    }\n",
              "  }\n",
              "</style>\n",
              "\n",
              "      <script>\n",
              "        async function quickchart(key) {\n",
              "          const quickchartButtonEl =\n",
              "            document.querySelector('#' + key + ' button');\n",
              "          quickchartButtonEl.disabled = true;  // To prevent multiple clicks.\n",
              "          quickchartButtonEl.classList.add('colab-df-spinner');\n",
              "          try {\n",
              "            const charts = await google.colab.kernel.invokeFunction(\n",
              "                'suggestCharts', [key], {});\n",
              "          } catch (error) {\n",
              "            console.error('Error during call to suggestCharts:', error);\n",
              "          }\n",
              "          quickchartButtonEl.classList.remove('colab-df-spinner');\n",
              "          quickchartButtonEl.classList.add('colab-df-quickchart-complete');\n",
              "        }\n",
              "        (() => {\n",
              "          let quickchartButtonEl =\n",
              "            document.querySelector('#df-509697c6-57b8-4954-8e75-e7fe2ff96d8b button');\n",
              "          quickchartButtonEl.style.display =\n",
              "            google.colab.kernel.accessAllowed ? 'block' : 'none';\n",
              "        })();\n",
              "      </script>\n",
              "    </div>\n",
              "    </div>\n",
              "  </div>\n"
            ],
            "text/plain": [
              "            Accuracy  Macro F1   Cohen κ\n",
              "ResNet18    0.967407  0.966164  0.963726\n",
              "ViT-B16     0.986420  0.985626  0.984884\n",
              "EffNetV2-S  0.960000  0.959540  0.955485\n",
              "DeiT-S      0.983951  0.983662  0.982140\n",
              "SimpleCNN   0.859753  0.853930  0.843959\n",
              "TinyViT     0.777037  0.770119  0.751964"
            ]
          },
          "execution_count": 18,
          "metadata": {},
          "output_type": "execute_result"
        }
      ],
      "source": [
        "import pandas as pd\n",
        "df = pd.DataFrame.from_dict(\n",
        "    {**baseline_results, **improved_results, **custom_results},\n",
        "    orient='index', columns=['Accuracy', 'Macro F1', 'Cohen κ'])\n",
        "df"
      ]
    },
    {
      "cell_type": "markdown",
      "metadata": {
        "id": "NTdDFg7aE3rA"
      },
      "source": [
        "## 6. Выводы\n",
        "ViT-B/16 достиг наивысших показателей (Accuracy ≈ 0.986, Macro F1 ≈ 0.986). DeiT-S показал сопоставимое качество (0.984), незначительно уступая лидеру и превосходя ResNet-18.\n",
        "\n",
        "EffNetV2-S не улучшил результаты базовых моделей: его точность (0.960) ниже ResNet-18.\n",
        "\n",
        "Самописные SimpleCNN и TinyViT существенно уступают всем предобученным архитектурам: 0.860 и 0.777 Accuracy соответственно; следовательно SimpleCNN не превосходит ResNet-18, а TinyViT не является «сравнимой».\n",
        "\n",
        "На основе этих экспериментов нельзя утверждать, что OneCycleLR и усиленные аугментации гарантируют рост качества: лучшие результаты получены без них."
      ]
    }
  ],
  "metadata": {
    "accelerator": "GPU",
    "colab": {
      "gpuType": "T4",
      "provenance": []
    },
    "kernelspec": {
      "display_name": "Python 3",
      "name": "python3"
    },
    "language_info": {
      "name": "python"
    }
  },
  "nbformat": 4,
  "nbformat_minor": 0
}
